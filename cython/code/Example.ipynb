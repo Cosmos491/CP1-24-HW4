{
 "cells": [
  {
   "cell_type": "code",
   "execution_count": 42,
   "id": "329224ff-e817-4c7f-8a79-94414a6df35c",
   "metadata": {},
   "outputs": [
    {
     "name": "stdout",
     "output_type": "stream",
     "text": [
      "{'intercept': -43.745122679751226, 'slope': 2.095925850614651, 'sigma_a': 0.0018266974875808374, 'sigma_b': 7.795567552676797e-05, 'chi_squared': 820183363.9667299}\n"
     ]
    }
   ],
   "source": [
    "# get some basic imports\n",
    "import numpy as np\n",
    "import random\n",
    "# get the cython module\n",
    "import compute\n",
    "\n",
    "# Create some arrays from 0 to 1 with 10 as the values\n",
    "x = np.linspace(1, random.uniform(1.0, 500.0), 10000000)\n",
    "y = np.linspace(1, random.uniform(1.0, 500.0), 10000000)\n",
    "sigma = np.linspace(1, random.uniform(1.0, 500.0), 10000000)\n",
    "\n",
    "# calculate chi\n",
    "chi = compute.compute_with_cython(x,y,sigma)\n",
    "\n",
    "# print it out\n",
    "print(chi)\n",
    "\n"
   ]
  }
 ],
 "metadata": {
  "kernelspec": {
   "display_name": "Python 3 (ipykernel)",
   "language": "python",
   "name": "python3"
  },
  "language_info": {
   "codemirror_mode": {
    "name": "ipython",
    "version": 3
   },
   "file_extension": ".py",
   "mimetype": "text/x-python",
   "name": "python",
   "nbconvert_exporter": "python",
   "pygments_lexer": "ipython3",
   "version": "3.9.6"
  }
 },
 "nbformat": 4,
 "nbformat_minor": 5
}
